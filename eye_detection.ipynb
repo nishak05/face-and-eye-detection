{
  "nbformat": 4,
  "nbformat_minor": 0,
  "metadata": {
    "colab": {
      "provenance": []
    },
    "kernelspec": {
      "name": "python3",
      "display_name": "Python 3"
    },
    "language_info": {
      "name": "python"
    }
  },
  "cells": [
    {
      "cell_type": "code",
      "execution_count": null,
      "metadata": {
        "id": "W1u3Doo-aCkV"
      },
      "outputs": [],
      "source": [
        "import cv2"
      ]
    },
    {
      "cell_type": "code",
      "source": [
        "facecas=cv2.CascadeClassifier(cv2.data.haarcascades + \"haarcascade_frontalface_default.xml\")\n",
        "eyecas=cv2.CascadeClassifier(cv2.data.haarcascades + \"haarcascade_eye.xml\")\n"
      ],
      "metadata": {
        "id": "fLwdwjHBaDhq"
      },
      "execution_count": null,
      "outputs": []
    },
    {
      "cell_type": "code",
      "source": [
        "vid=cv2.VideoCapture(0)"
      ],
      "metadata": {
        "id": "JclDB4AsaG1R"
      },
      "execution_count": null,
      "outputs": []
    },
    {
      "cell_type": "code",
      "source": [
        "while True:\n",
        "    _,frame=vid.read()\n",
        "\n",
        "    gray=cv2.cvtColor(frame,cv2.COLOR_BGR2GRAY)\n",
        "    faces=facecas.detectMultiScale(gray,1.1,5)\n",
        "\n",
        "    for (x,y,w,h) in faces:\n",
        "        cv2.rectangle(frame,(x,y),(x+w,y+h),(0,255,0),5)\n",
        "        r=gray[y:y+h,x:x+w]\n",
        "        reg=frame[y:y+h,x:x+w]\n",
        "        eyes=eyecas.detectMultiScale(r)\n",
        "        for (ex,ey,ew,eh) in eyes:\n",
        "            cv2.rectangle(reg,(ex,ey),(ex+ew,ey+eh),(0,255,0),2)\n",
        "\n",
        "\n",
        "    cv2.imshow('video',frame)\n",
        "    if cv2.waitKey(1) & 0xFF ==ord('q'):\n",
        "        break"
      ],
      "metadata": {
        "id": "V2J25VzIaG4q"
      },
      "execution_count": null,
      "outputs": []
    },
    {
      "cell_type": "code",
      "source": [
        "vid.release()\n",
        "cv2.destroyAllWindows()"
      ],
      "metadata": {
        "id": "-_yxsQTgaNht"
      },
      "execution_count": null,
      "outputs": []
    }
  ]
}