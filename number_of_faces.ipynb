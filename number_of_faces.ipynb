{
  "nbformat": 4,
  "nbformat_minor": 0,
  "metadata": {
    "colab": {
      "provenance": []
    },
    "kernelspec": {
      "name": "python3",
      "display_name": "Python 3"
    },
    "language_info": {
      "name": "python"
    }
  },
  "cells": [
    {
      "cell_type": "markdown",
      "source": [
        "number of faces in webcam"
      ],
      "metadata": {
        "id": "GqmgAwgma6sc"
      }
    },
    {
      "cell_type": "code",
      "execution_count": null,
      "metadata": {
        "id": "tENUSOXmai4T"
      },
      "outputs": [],
      "source": [
        "import cv2"
      ]
    },
    {
      "cell_type": "code",
      "source": [
        "facecas=cv2.CascadeClassifier(cv2.data.haarcascades + \"haarcascade_frontalface_default.xml\")\n",
        "eyecas=cv2.CascadeClassifier(cv2.data.haarcascades + \"haarcascade_eye.xml\")"
      ],
      "metadata": {
        "id": "bGkk3dFrakRd"
      },
      "execution_count": null,
      "outputs": []
    },
    {
      "cell_type": "code",
      "source": [
        "vid=cv2.VideoCapture(0)"
      ],
      "metadata": {
        "id": "U4Yq9almanP6"
      },
      "execution_count": null,
      "outputs": []
    },
    {
      "cell_type": "code",
      "source": [
        "while True:\n",
        "    _,frame=vid.read()\n",
        "\n",
        "    gray=cv2.cvtColor(frame,cv2.COLOR_BGR2GRAY)\n",
        "    faces=facecas.detectMultiScale(gray,1.1,5)\n",
        "\n",
        "    for (x,y,w,h) in faces:\n",
        "        cv2.rectangle(frame,(x,y),(x+w,y+h),(0,255,0),5)\n",
        "\n",
        "    cv2.putText(frame,\"number of faces detecting : \" +str(len(faces)),(40,450),cv2.FONT_HERSHEY_PLAIN,2,(255,0,0),2)\n",
        "    cv2.imshow('video',frame)\n",
        "    if cv2.waitKey(1) & 0xFF ==ord('q'):\n",
        "        break"
      ],
      "metadata": {
        "id": "ys7q9F7Napjd"
      },
      "execution_count": null,
      "outputs": []
    },
    {
      "cell_type": "code",
      "source": [
        "print(\"number of faces detected: \",len(faces))"
      ],
      "metadata": {
        "id": "mBH6KuX5atB1"
      },
      "execution_count": null,
      "outputs": []
    },
    {
      "cell_type": "code",
      "source": [
        "vid.release()\n",
        "cv2.destroyAllWindows()"
      ],
      "metadata": {
        "id": "RNF-kwndatIP"
      },
      "execution_count": null,
      "outputs": []
    },
    {
      "cell_type": "markdown",
      "source": [
        "number of faces in image\n"
      ],
      "metadata": {
        "id": "wmD7bc0-a-5y"
      }
    },
    {
      "cell_type": "code",
      "source": [
        "import cv2"
      ],
      "metadata": {
        "id": "e_WQgtfbbDda"
      },
      "execution_count": null,
      "outputs": []
    },
    {
      "cell_type": "code",
      "source": [
        "img=cv2.imread('f_img.jpg')\n",
        "gray=cv2.cvtColor(img,cv2.COLOR_BGR2GRAY)"
      ],
      "metadata": {
        "id": "ESuNoAUBbGRq"
      },
      "execution_count": null,
      "outputs": []
    },
    {
      "cell_type": "code",
      "source": [
        "facecas=cv2.CascadeClassifier(cv2.data.haarcascades + \"haarcascade_frontalface_default.xml\")\n",
        "faces=facecas.detectMultiScale(gray,1.1,4)\n",
        "for (x,y,w,h) in faces:\n",
        "        cv2.rectangle(img,(x,y),(x+w,y+h),(0,255,0),2)"
      ],
      "metadata": {
        "id": "czEAGbNibI9h"
      },
      "execution_count": null,
      "outputs": []
    },
    {
      "cell_type": "code",
      "source": [
        "print(\"number of faces : \",len(faces))\n",
        "cv2.imshow('image',img)"
      ],
      "metadata": {
        "id": "uBhDwkfYbMtG"
      },
      "execution_count": null,
      "outputs": []
    },
    {
      "cell_type": "code",
      "source": [
        "cv2.waitKey(0)\n",
        "cv2.destroyAllWindows()"
      ],
      "metadata": {
        "id": "It1AThahbRVy"
      },
      "execution_count": null,
      "outputs": []
    }
  ]
}