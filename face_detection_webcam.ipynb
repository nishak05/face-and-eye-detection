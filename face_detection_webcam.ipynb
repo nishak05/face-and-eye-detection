{
  "nbformat": 4,
  "nbformat_minor": 0,
  "metadata": {
    "colab": {
      "provenance": []
    },
    "kernelspec": {
      "name": "python3",
      "display_name": "Python 3"
    },
    "language_info": {
      "name": "python"
    }
  },
  "cells": [
    {
      "cell_type": "code",
      "execution_count": null,
      "metadata": {
        "id": "HFzZ2xA1ZDcl"
      },
      "outputs": [],
      "source": [
        "import cv2"
      ]
    },
    {
      "cell_type": "code",
      "source": [
        "facecas=cv2.CascadeClassifier(cv2.data.haarcascades + \"haarcascade_frontalface_default.xml\")\n"
      ],
      "metadata": {
        "id": "krudCxfwZGy0"
      },
      "execution_count": null,
      "outputs": []
    },
    {
      "cell_type": "code",
      "source": [
        "vid=cv2.VideoCapture(0)"
      ],
      "metadata": {
        "id": "n_xusFCAZKRi"
      },
      "execution_count": null,
      "outputs": []
    },
    {
      "cell_type": "code",
      "source": [
        "def bound(video):\n",
        "    gray=cv2.cvtColor(video,cv2.COLOR_BGR2GRAY)\n",
        "    faces=facecas.detectMultiScale(gray,1.1,5) #minSize=(40,40)=to calculate min size of face to detected else detect all\n",
        "    for (x,y,w,h) in faces:\n",
        "        cv2.rectangle(video,(x,y),(x+w,y+h),(0,255,0),5)\n",
        "    return faces\n"
      ],
      "metadata": {
        "id": "kAHB_vatZOLV"
      },
      "execution_count": null,
      "outputs": []
    },
    {
      "cell_type": "code",
      "source": [
        "while True:\n",
        "    ret,frame=vid.read()\n",
        "\n",
        "    gray=cv2.cvtColor(video,cv2.COLOR_BGR2GRAY)\n",
        "    faces=facecas.detectMultiScale(gray,1.1,5)\n",
        "    for (x,y,w,h) in faces:\n",
        "        cv2.rectangle(video,(x,y),(x+w,y+h),(0,255,0),5)\n",
        "\n",
        "    cv2.print()\n",
        "    cv2.imshow('video',frame)\n",
        "    if cv2.waitKey(1) & 0xFF ==ord('q'):\n",
        "        break"
      ],
      "metadata": {
        "id": "45Zk4pq-ZRkc"
      },
      "execution_count": null,
      "outputs": []
    },
    {
      "cell_type": "code",
      "source": [
        "vid.release()\n",
        "cv2.destroyAllWindows()"
      ],
      "metadata": {
        "id": "O5PEhfW8ZUjb"
      },
      "execution_count": null,
      "outputs": []
    }
  ]
}